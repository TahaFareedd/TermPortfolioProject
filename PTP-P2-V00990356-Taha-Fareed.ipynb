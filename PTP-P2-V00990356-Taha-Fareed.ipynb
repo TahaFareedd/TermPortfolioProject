{
 "cells": [
  {
   "cell_type": "markdown",
   "id": "383c889f",
   "metadata": {},
   "source": [
    "# <h1><center>Term Portfolio Project</center></h1>\n",
    "### <center>Taha Fareed</center>\n",
    "### <center>V00990356</center>\n",
    "### <center>Seng265: Software Development Methods</center>\n"
   ]
  },
  {
   "cell_type": "markdown",
   "id": "64df06b1",
   "metadata": {},
   "source": [
    "## <b>I. Introduction</b>"
   ]
  },
  {
   "attachments": {},
   "cell_type": "markdown",
   "id": "221281ce",
   "metadata": {},
   "source": [
    "Software development methods are extremely important in today's day and age with endless exponential growth in technology and information. Software developers are important because they<br><br> create software that helps humans deal with the limitless information on the internet and new technologies that are being invented every day. The purpose of this portfolio<br><br> is to document my journey of learning Python and C; specifically, by learning these languages for software development methods. This portfolio consists of two parts and<br><br> a approximately 16 pages with weekly contributions. The first part has 5-6 pages. Part one of the portfolio consists of my weekly contributions that document my learning<br><br> journey and experiences of first starting Python and C in software development methods. Part one will answer the following questions and allow me to further explain my <br><br>understanding and journey exploring these topics.<br>\n",
    "\n",
    "\n",
    "<b>The topics that are discussed are:</b>\n",
    "\n",
    "<ul>\n",
    "  <li>The Core Functionality of Jupyter Notebook</li><br>\n",
    "    \n",
    "  <li>How To Write Mathematical Formulas Using Latex markdown in Jupyter Notebook</li><br>\n",
    "    \n",
    "  <li>The Core Functionalities Git, Github, and Gitlab</li><br>\n",
    "\n",
    "  <li>The Most Important Programming Languages</li>\n",
    "    <br>\n",
    "  <li>The Python Concept of Comprehension and Slicing</li>\n",
    "    <br>\n",
    "    <li>Advantages of Classes for Packaging and Encapsulation and the Significance of Object-Oriented Design</li>\n",
    "    <br>\n",
    "  <li>The Concepts and Applications of Objects, Class Variables, and Methods</li>\n",
    "    <br>\n",
    "    <li>Understanding Deep Copy and Shallow Copy in Python: The Purpose of copy() and deepcopy() Methods in the Python Copy Module</li>\n",
    "        <br>\n",
    "    <li>The Notion of and Motivation for Typing and Typing Hints in Python</li>\n",
    "            <br>\n",
    "    <li>How Challenging Assignment Three was for Me</li>\n",
    "    <br>\n",
    "\n",
    "To conclude, it is extremely important to consistently reflect on your academic journey, career, and life decisions. Due to the importance of documenting one's academic journey, this<br><br> portfolio project will show you my reflection on the new ideas that were taught to me throughout this course and how I have gone about learning this knowledge. I hope this<br><br> portfolio serves as a reflection of my progress, and I would like to thank you for taking the time to review it."
   ]
  },
  {
   "cell_type": "markdown",
   "id": "914bcb7e",
   "metadata": {},
   "source": [
    "## <b>II. The Core Functionality of Jupyter Notebook</b>"
   ]
  },
  {
   "cell_type": "markdown",
   "id": "44e539e5",
   "metadata": {},
   "source": [
    "Jupyter Notebook is a versatile web application whose main purpose is to create and share documents that contain live code,\n",
    "\n",
    "math equations, visualizations of any sort, and text such as this document (Software Developers,Quality Assurance Analysts, and\n",
    "\n",
    "Testers: Occupational Outlook Handbook:: U.S. Bureau of Labor Statistics, 2023). Jupyter Notebook has four main features.\n",
    "\n",
    "<b>The overview of these four features are:</b> \n",
    "\n",
    "<ol>\n",
    "    <li>Notebook Document</li>\n",
    "    <ul>\n",
    "        <li>The Jupyter notebook app is used to create documents that can contain code, visuals, text, and equations; making them \"human-readable\" versions of whatever software is using these notebooks. These documents are also \n",
    "        executable files, meaning that they can be executed into workable programs or software. According to the Jupyter/IPython Notebook Quick Start Guide (n.d.), the notebooks created using this app have become increasingly \n",
    "        popular among researchers and data scientists due to their versatility and ease of use.\n",
    "    </ul><br>\n",
    "    <li>Jupyter Notebook App</li>\n",
    "    <ul>\n",
    "        <li>The Jupyter Notebook App allows the editing and running of notebook documents using a web browser. The app can be launched and run files on a local computer with or without internet access (What Is the Jupyter Notebook? — Jupyter/IPython Notebook Quick Start Guide 0.1 Documentation, n.d.).</li>\n",
    "    </ul><br>\n",
    "    <li>Kernel</li>\n",
    "    <ul>\n",
    "        <li>A notebook Kernel is a \"computational engine\" that executes the code contained in a Notebook document. The python Kernel, referenced in this guide, <br>\n",
    "        executes python code.</li>\n",
    "    </ul><br>\n",
    "    <li>Notebook Dashboard</li>\n",
    "    <ul>\n",
    "        <li>The dashboard is shown first when you launch the Jupyter Notebook App. The Dashboard's main focus is to create or open documents and manage the <br>\n",
    "        currently running kernels (What Is the Jupyter Notebook? — Jupyter/IPython Notebook Quick Start Guide 0.1 Documentation, n.d.)\n",
    "</li>\n",
    "    </ul>\n",
    "    \n",
    "</ol>\n",
    "<br>\n",
    "I have used Jupyter Notebook once before for my introductory computer science class (CSC-110). At the time, I did not\n",
    "\n",
    "understand just how popular and helpful Jupyter Notebook is. Learning how to use Jupyter Notebook for this very portfolio\n",
    "\n",
    "project has made me realize how many people use Jupyter Notebook and after researching Jupyter Notebook, I am going to use this\n",
    "\n",
    "application for my future python projects.\n"
   ]
  },
  {
   "cell_type": "markdown",
   "id": "7c9df6cd",
   "metadata": {},
   "source": [
    "## <b>III. Writing Mathematical Formulas Using Latex Markdown in Jupyter Notebook</b>"
   ]
  },
  {
   "attachments": {},
   "cell_type": "markdown",
   "id": "890e986a",
   "metadata": {},
   "source": [
    "Markdown and Latex are two seperate tools, however, they are used together often. Markdown is a conversion tool for web writers; Markdown allows a user to write using a plain text format<br><br> and then convert it to a structurally valid XHTML or HTML file (Mirzaee, n.d.). Latex is a typesetting system that was created to put mathematical and scientific <br><br>documentation on an HTML or XHTML file. Markdown is different from Latex as Latex is a typesetting toolthat can be used inside of a Markdown file to increase readability.<br><br>\n",
    "\n",
    "<b>How to use Latex to write mathematical formulas:</b>\n",
    "    \n",
    "To write mathematical formulas using Latex in Jupyter Notebook you have to use the<code> \"$\"symbol. The singular \"$\"</code>  symbol does not center the equation, if I want to put Eulers<br><br> identity, I would type \"e^{i \\pi} + 1 = 0\" between two of the \"$$\" symbol and it would output:"
   ]
  },
  {
   "cell_type": "markdown",
   "id": "59a65050",
   "metadata": {},
   "source": [
    "$$ e^{i \\pi} + 1 = 0 $$"
   ]
  },
  {
   "cell_type": "markdown",
   "id": "bbd6e31a",
   "metadata": {},
   "source": [
    "Another example of using Latex to form mathematical equations would be to show that it can also form complicated written equations like Taylor's Theorem:"
   ]
  },
  {
   "cell_type": "markdown",
   "id": "440f6d20",
   "metadata": {},
   "source": [
    "$$f(x)=\\sum_{k=0}^\\infty f^{(k)}(a)\\frac{(x-a)^k}{k!}$$"
   ]
  },
  {
   "attachments": {},
   "cell_type": "markdown",
   "id": "221fc313",
   "metadata": {},
   "source": [
    "Before taking SENG265, I had not used a Markdown file. However, with the use of the Markdown files used for the assignments in the course, I have realized that Markdown files help hold<br><br> easy-to-read information for users. I have also utilized Latex in the past for a first-year discrete mathematics course (Math-122). Although I was introduced to Latex in<br><br> that course, I rarely experimented with Latex, despite it being a very helpful and important tool; mainly because I have not yet had a situation to where the application of<br><br> this knowledge was useful. Although, I have limited experience with both Markdown and Latex; I envision myself applying knowledge I have gained in this lass on future projects.<br><br>\n"
   ]
  },
  {
   "cell_type": "markdown",
   "id": "65e779df",
   "metadata": {},
   "source": [
    "## <b>III. The Core Functionalities of Git, Github, and Gitlab</b>"
   ]
  },
  {
   "attachments": {},
   "cell_type": "markdown",
   "id": "b25be959",
   "metadata": {},
   "source": [
    "Git is a DevOps tool that was originally developed in 2005 for source code management. Github and Gitlab both use Git, however, they include different features and capabilities. Github,<br><br> originally, was a cloud-based Git platform that would allow developers to host and monitor changes to their code. However, presently Github and Gitlab have evolved to become a <br><br>development platform which allows developers to edit, monitor, test, and deploy their code. Github, unlike GitLab, allows developers to integrate whatever apps and integrations <br><br>the developer chooses with the use of the GitHub marketplace. Gitlab on the other hand, much like GitHub, is a cloud-based DevOps platform with the same ideas as  such as <br><br>allowing developers to monitor, edit, test, and deploy their code. Developers find Gitlab attractive due to its range of features such as cloud-hosted Git repositories, <br><br>continuous integration for automated testing, robust security measures, tools for deploying applications, and various other DevOps functionalities. Github and Gitlab are <br><br>extremely similar with the features they provide, the main difference is up to the developer and how they choose to access the features provided to them. Either a much more <br><br>structural version like GitLab or a much less structured and more free version like GitHub. Overall, both these softwares are similar with the features they offer but differ in <br><br>the way they maintain and publish code. Github's open marketplace allows for more flexibility in integrating third-party apps and services, and Gitlab offers a more structured<br><br> approach that could potentially offer greater control and security over the software development process. Over my short programming career, I never used GitLab and<br><br> always used GitHub. Therefore, I tried to stray away from GitHub because as a new programmer, I did not understand how to use GitHub effectively due to the lack of structure<br><br> it provided. I realize now, after researching this topic, that Github's lack of  structure is actually what makes it so popular and I will try to learn how to use the<br><br>GitHub marketplace to my advantage for my future projects. "
   ]
  },
  {
   "cell_type": "markdown",
   "id": "5f1b796e",
   "metadata": {},
   "source": [
    "## <b>IV. The Most Popular Programming Languages</b>"
   ]
  },
  {
   "attachments": {},
   "cell_type": "markdown",
   "id": "d25a7db4",
   "metadata": {},
   "source": [
    "According to the software company, TIOBE, Python, C, and Java are the three most popular programming languages. Python is an object-oriented high-level programming language with built-in<br><br> data structures, dynamic typing, and dymanic building. These features make Python one of the main languages for rapid application development. Python is popular because<br><br> of its easy-to-read syntax and it does not need a compiler; making the edit-test-debug cycle extremely fast (What Is Python? Executive Summary, n.d.). The C programming<br><br> language is a general purpose programming language that is flexible to use; C's main purpose is used for developing system applications. C has many application uses,<br><br> such as UNIX, Google, and MySQL. Java is a multi-platform, object-oriented, and network centric language designed for having lesser implementation dependencies. Java's ecosystem<br><br> is thouroughly built with a warehouse full of libraries that allow programmers to save time by not building redundant functions. Despite these three languages being the<br><br> most popular, they have their differences. Java is a platform-dependent and is a compiled programming language, Python is interpreted and platform-independent, and C is a <br><br>compiled programming language that can create vastly complex systems due to its bare-boned structure. I have had a lot of experience with both Java and Python, with Java being my<br><br> most preferred. I struggle with grasping the concepts of C due to it having a perceived stripped understanding. After taking the first half of SENG-265, I have realized the<br><br> importance of C in software development, it has encouraged to pursue a further understand of the language in hopes of one day furthering my progress in computer science.   "
   ]
  },
  {
   "cell_type": "markdown",
   "id": "c9677e4b",
   "metadata": {},
   "source": [
    "## <b>V. The Python concept of comprehension and slicing</b>"
   ]
  },
  {
   "attachments": {},
   "cell_type": "markdown",
   "id": "d71d360d",
   "metadata": {},
   "source": [
    "Python is the most popular language in the world and there are many different concepts within Python that are important to understand. There are four different comprehensions in python:<br><br> list comprehensions, dictionary comprehensions, set comprehensions, and generator comprehensions (GeeksforGeeks, 2018). List comprehension is a cultivating way to create new<br><br> lists by shortening the syntax of creating new lists. List comprehensions may contain singular or mulitple if statements within the program, this in turn leads to nested list comprehensions. For<br><br> example, if you have a list of ten numbers in ascending order <code>[1,2,3,4,5,6,7,8,9,10]</code>the list comprehensions create a new list with even numbers. After the program runs, the result list will appear as: <br><br>\n",
    "\n",
    "<b>The Program:</b>\n",
    "<br><br><code>li = [1,2,3,4,5,6,7,8,9,10]<br>\n",
    "resultLi = []<br>\n",
    "for i in li:<br>\n",
    "    if (i%2==0):<br>\n",
    "        resultLi.append(i)<br>\n",
    "</code>\n",
    "\n",
    "<b>Output:</b><br><br>\n",
    "<code>[2,4,6,8,10]</code>\n",
    "\n",
    "\n",
    "\n",
    "Dictionary comprehension uses the idea of list comprehensions, dictionary comprehensions differ by using a key/value pair. A dictionary would be in the form of <code>myDict = {1: \"soccer\", 2: \"basketball\",  3:<br><br> \"baseball\", 4: \"volleyball\"}</code>. If you want to print the word \"basketball\" from the dicitonary, you would have to use the print statement as it is shown: <code>print(myDict[2])</code>. In Code,<br><br> this would look like this:<br><br>\n",
    "<b>The Program:</b><br><br><br>\n",
    "<code>myDict = {1: \"soccer\", 2: \"basketball\",  3: \"baseball\", 4: \"volleyball\"}<br>\n",
    "print(myDict[2])</code><br><br><br>\n",
    "<b>Output:</b><br>\n",
    "\n",
    "<code>basketball</code>\n",
    "<br>\n",
    "<br>\n",
    "\n",
    "Set comprehension is virtually similiar to a list comprehension, excluding the fact that it uses curly brackets \"{ }\" and not square brackets \"[ ]\"; instead of creating a new list it<br><br> creates a new set. Set comprehension and list comprehension both have their different uses such as set comprehension not allowing duplicate data types. Lets<br><br> say you have a list <code>li = [1,1,2,2,3,3,4,4]</code>, you can use list comprehension to get rid of the duplicates and create only <code>{1,2,3,4}</code>. Here is an<br><br> example of a working program that demonstrates sets: <br><br>\n",
    "<b>The Program:</b><br>\n",
    "<code>li = [1,1,2,2,3,3,4,4]<br>\n",
    "resultSet = set()<br>\n",
    "for i in li:<br>\n",
    "    resultSet.add(i)<br>\n",
    "print(resultSet)\n",
    "</code><br>\n",
    "<b>Output</b>:<br><br>\n",
    "<code>{1,2,3,4}</code>\n",
    "\n",
    "\n",
    "\n",
    "Generator comprehension is almost identical to list comprehension, however, generator comprehension uses ciruclar brackets \"( )\" while list comprehension uses square brackets \"[ ]\"<br><br>. Generator comprehensions are primarily memory efficient as it does not allocate memory for the whole list but instead one by one for each element. Here's an example of creating a generator:<br><br>\n",
    "\n",
    "<b>The Program:</b><br><br>\n",
    "<code>li = [1, 2, 3, 4, 5, 6, 7, 8, 9, 10]<br>\n",
    "oddGen = (x for x in li if x % 2 != 0)<br>\n",
    "print(oddGen)</code>\n",
    "\n",
    "If I were to run this code, since the generator does not allocate memory for the whole list and just adds memory as it goes, it will not print a list of only odd numbers but instead<br><br> print out a string representation of the generator object which includes the type if object and the memory address. If I wanted to print the elements in oddGen, I would<br><br> have to iterate over the generator comprehension like:<br><br>\n",
    "\n",
    "<code>for i in oddGen:\n",
    "        print(i)</code>\n",
    "\n",
    "and it will print each element in the oddGen generator as such:\n",
    "\n",
    "<b>The Output:</b><br><code>1\n",
    "3\n",
    "5\n",
    "7\n",
    "9</code>\n",
    "\n",
    "\n",
    "\n",
    "Slicing in Python is \"a flexible tool to build new lists out of an existing list\" (Boiko & Boiko, 2021). Python supports list slicing for any sort of abstract data type (lists, stacks,<br><br> queues, etc...) and is very popular in the pandas and NumPy library (Boiko & Boiko, 2021). The syntax for list slicing is:<code>list[start,stop,step]</code> where \"start\" is the<br><br> beginning of the slice, \"stop\" is the end of the slice, and \"step\" is the every \"nth\" element of the list. For example, when you have the method \"sliceList\" where you have<br><br> the list \"li\" be <code>[1,\"hello\",2.5,3,\"seng265\",5,1.2,\"python\"]</code> and I want to turn it into<code>[1, 2.5,'seng265',1.2]</code> I would insert <code>li[0:7:2]</code>.<br><br> The code would look something like this:<br><br><br>\n",
    "\n",
    "<b>The Program</b><br><br>\n",
    "<code>def sliceList():\n",
    "        li = [1,\"hello\",2.5,3,\"seng265\",5,1.2,\"python\"]\n",
    "        li = li[0:7:2]\n",
    "        print(li)\n",
    "</code>\n",
    "\n",
    "<b>Output:</b>\n",
    "\n",
    "<code>[1, 2.5,'seng265',1.2]</code><br><br>\n",
    "\n",
    "Overall, Python comprehension is an extremely important aspect to know if you are using the Python programming language. As a student, I have not yet learned about sets and generators in Python<br><br> prior to this term portfolio project. This lack of knowledge encouraged me to research these types of comprehensions and try to apply them to my own projects/assignments.<br><br> I hope as I further learn more about Python that I will become a much more effective programmer. <br><br>\n",
    "        "
   ]
  },
  {
   "cell_type": "markdown",
   "id": "23b8e266",
   "metadata": {},
   "source": [
    "## <b>VI. Advantages of Classes for Packaging, Encapsulation, and the Significance of Object-Oriented Design</b>"
   ]
  },
  {
   "attachments": {},
   "cell_type": "markdown",
   "id": "c3dabf20",
   "metadata": {},
   "source": [
    "Object-Oriented Programming (OOP) is an extremely popular computer programming model that orgranizes programs and softwares to focus on the data and logic instead of the function and logic. OOP<br><br> is a useful program model that popular languages like Java, Python, and C++ which all focus on an object-oriented design. OOP simplifies the programming process for complex programs that are<br><br>large, complex, and routinely updated (Gillis & Lewis, 2021). Classes are a blueprint of sorts for objects that perform certain functions for certain problems. Encapsulation is<br><br> one of the fundamentals of OOP and refers to the methods that bundle and operate on a specific piece of data in a class. The main purpose of encapsulation is used to hide<br><br> values of a data object inside of a class from unauthorized users. By implementing encapsulation, it becomes difficult for unauthorized parties to gain direct access to this<br><br> data and creates a layer of security (Braunschweig, 2018).Three advantages for encapsuation are:<br><br><br>\n",
    "\n",
    "\n",
    "<b>Better Control Over Class Data:</b> Helps the authors of the program achieve better control over class data by hiding the internals of the class making it harder for unauthorized resources to view the data<br><br>\n",
    "<b>Improved Code Maintainabiliity: </b> Reduces the complexity of a program by isolating the implementation details of a class making it easier to modify or update the code without affecting other parts of the program <br><br>\n",
    "<b>Increased Code Reusability: </b> Encapsulation of classes makes it simpler to reuse them in different parts of the program reducing the amount of code that needs to be written.<br>\n",
    "\n",
    "OOP is extremely helpful and important in today's world where the majority of the popular programming languages have similiar or direct OOP programs integrated within the language. According to Half (2023), there are four<br><br> main advantages to OOP:\n",
    "\n",
    "<ol>\n",
    "    <b><li>Reusability: </li></b>\n",
    "        OOP makes code much more reusable compared to programs without OOP, making it much more time-efficient<br><br>\n",
    "    <b><li>Maintainability: </li></b>\n",
    "    OOP has a modular structure which makes it extremely easy to update and maintain code, allowing developers to modify or update code without impacting the rest of the program<br><br>\n",
    "    <b><li>Flexibility: </li></b>\n",
    "    OOP's ability to add or remove components as needed without causing major aids with the creation of highly adaptable software.<br><br>\n",
    "    <b><li>Security: </li></b>\n",
    "    The encapsulation feature, as discussed earlier, creates a layer of security to a program that uses OOP to secure sensitive data within classes.\n",
    "</ol>\n",
    "\n",
    "After taking Seng 265, I learned that the readability and accessibliity portions of a program are extremely important. By utilizing OOP principles, developers can create code that is not only<br><br> more readable and accessible but also easier to maintain and update in the future which is why I will try to implement OOP into more projects and assignments.\n"
   ]
  },
  {
   "attachments": {},
   "cell_type": "markdown",
   "id": "006be8c9",
   "metadata": {},
   "source": [
    "## <b>VII. The Concepts and Applications of Objects, Class Variables, and Methods</b>"
   ]
  },
  {
   "attachments": {},
   "cell_type": "markdown",
   "id": "918d51e1",
   "metadata": {},
   "source": [
    "Objects and class variables are all valuable pieces incorportated within Object-Oriented Programming (OOP). Objects are instances of a class created with specifically designed data with their own set of<br><br> characteristics and behaviours (Doherty, 2015). Class variables are variables that are shared between all objects within a specific class. Changing the value of a class<br><br> variable in one object will change the value of that class variable for every single object within the class. Methods are functions within a class that can be called inside<br><br> of an object to perform some sort of action on a variable (Methods (OOP) | Brilliant Math & Science Wiki, n.d.). OOP is extremely powerful and helpful in the world of<br><br> programming. According to Cheguri (2022), a few popular applications of OOP are: client-server systems, hyptertext, hyptermedia, and application design. Within my<br><br> programming experience so far, I have not really used OOP as I never saw the need for it in my classes. I was already familiar with these concepts, however, while researching them for<br><br> this project I reviewed original content and recieved a deeper understanding and appreciation for OOP."
   ]
  },
  {
   "cell_type": "markdown",
   "id": "88c9733b",
   "metadata": {},
   "source": [
    "## <b>VIII. Understanding Deep Copy and Shallow Copy in Python: The Purpose of copy() and deepcopy() Methods in the Python Copy Module</b>"
   ]
  },
  {
   "attachments": {},
   "cell_type": "markdown",
   "id": "76a16c43",
   "metadata": {},
   "source": [
    "One of the reasons Python is so popular is because of the vast amount of libraries and modules that can be imported into Python. One of these modules is the copy module, assignment<br><br> statements in Python do not actually copy the object but instead creates bindings between a target and an object. Mutable collections occassionaly use copy so a developer<br><br> can change one copy without changing the other (Copy — Shallow and Deep Copy Operations, n.d.). The copy module creates two different types of copies, shallow or deep.<br><br> There are two different types of functions in the copy module, .copy(x) which returns a shallow copy of x and .deepcopy(x [,memo] ) which returns a deep copy of x (Copy —<br><br> Shallow and Deep Copy Operations, n.d.). There is a difference between shallow and deep copy, however, the difference is only important when talking about compound objects<br><br> (objects that contain other objects).\n",
    "\n",
    "<b>Shallow Copy: </b> A copy of an object whose properties share the same memory references as the original \"x\" being copied\n",
    "\n",
    "<b>Deep Copy: </b> A copy of an object whose properties do not share the same memory references as the original \"x\" being copied\n",
    "\n",
    "Here is an example showcasing the difference between deep and shallow copy:<br><br>\n",
    "<code>import copy\n",
    "    list = [1,2,[3,4]]<br>\n",
    "    shallowCopy = copy.copy(list)<br>\n",
    "    deepCopy = copy.deepcopy(list)<br>\n",
    "    list = [2][0] = 5<br>\n",
    "    print(\"Original list: \", list)<br>\n",
    "    print(\"Shallow copy list: \", shallowCopy)<br>\n",
    "    print(\"Deep copy list: \", deepCopy)\n",
    "</code>\n",
    "\n",
    "Output:<br><br>\n",
    "<code>Original list:  [1, 2, [5, 4]]<br>\n",
    "Shallow copy list:  [1, 2, [5, 4]]<br>\n",
    "Deep copy list:  [1, 2, [3, 4]]<br>\n",
    "</code>\n",
    "\n",
    "As you can see with the shallow copy and original list, the value three got updated to five but in the deep copy the value did not get updated. This is because the elements in shallow copy uses<br><br> the same memory address as the original list, but deep copy creates new memory addresess for each element which is why the deep copy list did not get updated.<br><br>\n",
    "\n",
    "I have never had any experience with the copy module in Python, and I can not imagine many scenarios where it is useful. However, if I ever find a problem that would need to use the copy<br><br> module, I will be able to use it efficiently after researching the topic."
   ]
  },
  {
   "attachments": {},
   "cell_type": "markdown",
   "id": "453a94f5",
   "metadata": {},
   "source": [
    "## <b>IX. The Notion of and Motivation for Typing and Typing Hints in Python</b>"
   ]
  },
  {
   "attachments": {},
   "cell_type": "markdown",
   "id": "f6d580e9",
   "metadata": {},
   "source": [
    "Type hints are a very popular feature in python that allows developrs to annotate the types of function parameters and return values which makes the code much more readable. Type hints are<br><br> extremely useful for developers in all sorts of major projects with either multiple teams or mulitple individuals working on it together. Type hints are extremely beneficial<br><br> to a program. Typhints can document your code, makes the code easier to read and debug, and certain IDE's can use type hints to also help debug and analyize your code.<br><br> \n",
    "\n",
    "<b>Example of a program that returns the number of even numbers in a list without type hints: </b><br>\n",
    "<code>def howManyEven(list):<br><br>\n",
    "    count = 0<br><br>\n",
    "    for i in list:<br><br>\n",
    "        if(i%2==0):<br><br>\n",
    "            count+=1<br><br>\n",
    "    return count</code>\n",
    "    \n",
    "    \n",
    "<b>The same example but with type hints: </b><br>\n",
    "<code>def howManyEven(list: List[int]) -> int:<br><br>\n",
    "    count = 0<br><br>\n",
    "    for i in list:<br><br>\n",
    "        if(i%2==0):<br><br>\n",
    "            count+=1<br><br>\n",
    "    return count</code>\n",
    "    \n",
    "As you can see, the type hints make the program an effortless read as you can see exactly what the variable \"list\" is and what type of value the program returns.\n",
    "\n",
    "I never used type hints before Seng 265, but a big part of the Seng 265 assignments is the readbility of the code. I lost a lot of marks in the first assignment due to my lack of type hints<br><br> and how my code appeared overly complex. Over the semester I have worked towards using more type hints and making my code readable which is reflected in my grade where<br><br> with the first assignment I got 65% and on the second assignment I got 85%.<br><br>"
   ]
  },
  {
   "attachments": {},
   "cell_type": "markdown",
   "id": "24a85683",
   "metadata": {},
   "source": [
    "## <b>X. How Challenging Assignment Three Was For Me</b>"
   ]
  },
  {
   "attachments": {},
   "cell_type": "markdown",
   "id": "7f704dc3",
   "metadata": {},
   "source": [
    "The whole point of Assignment three was to get flight information in a YAML file and output the specific N airlines, countries with the least appearances, and destination airports. \n",
    "\n",
    "The three questions we were supposed to answer were:<br><br>\n",
    "\n",
    "<b>q1: </b>What are the top N airlines that offer the greatest number of routes with destination the country as Canada? <br><br>\n",
    "<b>q2: </b>What are the top N countries with the least appearances as destination country on the routes data?<br><br>\n",
    "<b>q3: </b>What are the top N destination airports?<br><br>\n",
    "\n",
    "\n",
    "I found this assignment to be the easiest out of all the assignments I have done so far because of the help I got throughout my labs. The biggest struggle I had was actually extracting<br><br> the information from the YAML file. The hint that helped me find the information was that there were always 13 elements in each route in the YAML file. Another issue<br><br> that was prominent were the segmentation faults I would get because of my issue with pointers. I was not very  confident with using pointers before the assignment, however,<br><br> after spending 10-13 hours on this assignment I feel much more confident with my C programming skills and understand pointers to a level where I feel like I would not need to<br><br> Google the errors I recieved with pointers."
   ]
  },
  {
   "attachments": {},
   "cell_type": "markdown",
   "id": "5ff2ead6",
   "metadata": {},
   "source": [
    "## <b>XI. References</b>"
   ]
  },
  {
   "cell_type": "markdown",
   "id": "721454aa",
   "metadata": {},
   "source": [
    "Aziz, K. A. (2021, December 14). Learn How to Write Markdown & LaTeX in The Jupyter Notebook. Medium. https://towardsdatascience.com/write-markdown-latex-in-the-jupyter-notebook-10985edb91fd#:~:text=The%20Jupyter%20Notebook%20uses%20MathJax,by%20writing%20between%20%24%24%20%24%24%20.\n",
    "\n",
    "Lambert W’s Taylor Series. (n.d.). Overleaf, Online LaTeX Editor. https://www.overleaf.com/articles/lambert-ws-taylor-series/dzbvsrzvgkvn\n",
    "\n",
    "Mirzaee, A. (n.d.). Markdown and LaTeX introduction. https://ashki23.github.io/markdown-latex.html\n",
    "\n",
    "Perveez, S. H. (2023, January 30). What is Git: Features, Command and Workflow in Git. Simplilearn.com. https://www.simplilearn.com/tutorials/git-tutorial/what-is-git#:~:text=What%20is%20Git%3F&text=Git%20is%20a%20DevOps%20tool,together%20on%20non%2Dlinear%20development.\n",
    "\n",
    "Perveez, S. H. (2023b, January 30). What is Git: Features, Command and Workflow in Git. Simplilearn.com. https://www.simplilearn.com/tutorials/git-tutorial/what-is-git#:~:text=Git%20is%20a%20DevOps%20tool,together%20on%20non%2Dlinear%20development.\n",
    "\n",
    "Ravoof, S. (2022, November 28). GitLab vs GitHub: Explore Their Major Differences and Similarities. Kinsta®. https://kinsta.com/blog/gitlab-vs-github/#:~:text=Both%20GitLab%20and%20GitHub%20are,%2C%20collaboration%2C%20and%20smoother%20deployment.\n",
    "\n",
    "Software Developers, Quality Assurance Analysts, and Testers :    Occupational Outlook Handbook: :    U.S. Bureau of Labor Statistics. (2023, February 6). https://www.bls.gov/ooh/computer-and-information-technology/software-developers.htm#:~:text=Software%20developers%20typically%20do%20the,the%20pieces%20will%20work%20together\n",
    "\n",
    "Software Developers, Quality Assurance Analysts, and Testers :    Occupational Outlook Handbook: :    U.S. Bureau of Labor Statistics. (2023, February 6). https://www.bls.gov/ooh/computer-and-information-technology/softwaredevelopers.htm#:~:text=Software%20developers%20typically%20do%20the,the%20pieces%20will%20work%20together\n",
    "\n",
    "Thompson, B. (2023, March 4). What is C Programming Language? Basics, Introduction, History. Guru99. https://www.guru99.com/c-programming-language.html\n",
    "\n",
    "TIOBE Index - TIOBE. (2022, June 3). TIOBE. https://www.tiobe.com/tiobe-index/\n",
    "\n",
    "What is Python? Executive Summary. (n.d.-b). Python.org. https://www.python.org/doc/essays/blurb/\n",
    "\n",
    "What is the Jupyter Notebook? — Jupyter/IPython Notebook Quick Start Guide 0.1 documentation. (n.d.). https://jupyter-notebook-beginner-guide.readthedocs.io/en/latest/what_is_jupyter.html\n",
    "\n",
    "Boiko, S., & Boiko, S. (2021, August 17). Python Indexing and Slicing for Lists and other Sequential Types | Railsware Blog. Blog by Railsware | Blog on Engineering, Product Management, Transparency, Culture and Many More. . . https://railsware.com/blog/python-for-machine-learning-indexing-and-slicing-for-lists-tuples-strings-and-other-sequential-types/#:~:text=In%20short%2C%20slicing%20is%20a,add%20its%20support%20as%20well\n",
    "\n",
    "GeeksforGeeks. (2018, November 14). Comprehensions in Python. https://www.geeksforgeeks.org/comprehensions-in-python/\n",
    "\n",
    "Python Dictionary Comprehension. (n.d.). https://www.programiz.com/python-programming/dictionary-comprehension\n",
    "\n",
    "Gillis, A. S., & Lewis, S. (2021, July 13). object-oriented programming (OOP). App Architecture. https://www.techtarget.com/searchapparchitecture/definition/object-oriented-programming-OOP\n",
    "\n",
    "Doherty, E. (2015, April 15). What is object-oriented programming? OOP explained in depth. educative.io. https://www.educative.io/blog/object-oriented-programming#building\n",
    "\n",
    "Methods (OOP) | Brilliant Math & Science Wiki. (n.d.). https://brilliant.org/wiki/methods-oop/\n",
    "\n",
    "Cheguri, P. (2022, December 30). Top 10 Applications of Object-Oriented Programming Using Python Language. Analytics Insight. https://www.analyticsinsight.net/top-10-applications-of-object-oriented-programming-using-python-language/\n",
    "\n",
    "Braunschweig, D. (2018, December 15). Encapsulation. Pressbooks. https://press.rebus.community/programmingfundamentals/chapter/encapsulation/\n",
    "\n",
    "\n",
    "Half, R. (2023, February 18). 4 Advantages of Object-Oriented Programming. https://www.roberthalf.com/blog/salaries-and-skills/4-advantages-of-object-oriented-programming\n",
    "\n",
    "copy — Shallow and deep copy operations. (n.d.). Python Documentation. https://docs.python.org/3/library/copy.html"
   ]
  }
 ],
 "metadata": {
  "kernelspec": {
   "display_name": "Python 3 (ipykernel)",
   "language": "python",
   "name": "python3"
  },
  "language_info": {
   "codemirror_mode": {
    "name": "ipython",
    "version": 3
   },
   "file_extension": ".py",
   "mimetype": "text/x-python",
   "name": "python",
   "nbconvert_exporter": "python",
   "pygments_lexer": "ipython3",
   "version": "3.10.9"
  }
 },
 "nbformat": 4,
 "nbformat_minor": 5
}
